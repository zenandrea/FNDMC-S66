{
 "cells": [
  {
   "cell_type": "code",
   "execution_count": 85,
   "metadata": {},
   "outputs": [],
   "source": [
    "import numpy as np\n",
    "import pandas as pd\n",
    "import matplotlib.pyplot as plt\n",
    "from scipy.optimize import curve_fit\n",
    "from Scripts.def_colors import map_DMC, dmc_color\n",
    "from Scripts.define_setup import *\n",
    "from Scripts.myfit import fit_err, fun_lin, fun_quad, fun_cub, get_chi2_alpha_parfun\n",
    "from jup_plot import *\n",
    "\n",
    "# Set the display option for maximum rows (you can adjust this based on your needs)\n",
    "pd.set_option('display.max_rows', 500)\n",
    "pd.set_option('display.max_columns', 500)\n",
    "\n",
    "# Check if we are in Google Colab environment\n",
    "try:\n",
    "    import google.colab\n",
    "    IN_COLAB = True\n",
    "    usetex = False\n",
    "except:\n",
    "    import os\n",
    "    IN_COLAB = False\n",
    "    if os.path.expanduser('~') == '/home/shixubenjamin':\n",
    "        usetex = True\n",
    "    else:\n",
    "        usetex = False\n",
    "\n",
    "# If in Google Colab, install the necessary data and set up the necessary environment\n",
    "if IN_COLAB == True:\n",
    "    !rm -rf /content/DMC-reproducibility-main /content/main.zip\n",
    "    !wget https://github.com/zenandrea/DMC-reproducibility/archive/refs/heads/main.zip\n",
    "    !unzip /content/main.zip\n",
    "    %pwd\n",
    "    %cd /content/DMC-reproducibility-main\n",
    "\n",
    "replot_graphs = True\n",
    "\n",
    "# Load the data\n",
    "dimer_info = pd.read_csv('Data/dim_info.csv', index_col=0)\n",
    "monomer_info = pd.read_csv('Data/mol_info.csv', index_col=0)\n",
    "\n",
    "dimer_dmc_total_energy_data = pd.read_csv('Data/results_dim.csv', index_col=0)\n",
    "monomer_dmc_total_energy_data = pd.read_csv('Data/results_mol.csv', index_col=0)\n",
    "monomer_geometry_correction_data = pd.read_csv('Data/delta_mol_ref.csv', index_col=0)"
   ]
  },
  {
   "cell_type": "markdown",
   "metadata": {},
   "source": [
    "# Analysis of the DMC data for the S66 dataset"
   ]
  },
  {
   "cell_type": "code",
   "execution_count": 86,
   "metadata": {},
   "outputs": [],
   "source": [
    "# Compute the binding energy for the S66\n",
    "# Filter dmc data to only include data with dmc_type = 'DMCdla5' and dmc_Jas = 'Jopt'\n",
    "filtered_dimer_dmc_total_energy_data = dimer_dmc_total_energy_data[(dimer_dmc_total_energy_data['dmc_type'] == 'DMCdla5') & (dimer_dmc_total_energy_data['dmc_Jas'] == 'Jopt')]\n",
    "\n",
    "dmc_energy_data = {system_id: {'total_energy_dimer': 0, 'total_energy_monomer_1':0, 'total_energy_monomer_2':0, 'binding_energy': 0} for system_id in range(1,67)}\n",
    "\n",
    "\n",
    "# Loop over the the dimers\n",
    "for system_id, system_data in filtered_dimer_dmc_total_energy_data.groupby('ID'):\n",
    "    system_data = system_data.sort_values('tau', ascending=False)\n",
    "    system_data.set_index( 'tau', inplace=True )\n",
    "    system_name = dimer_info.loc[system_id,'name']\n",
    "\n",
    "    monomer_data = {1:0, 2:0}\n",
    "    monomer_geometry_correction = {1:0, 2:0}\n",
    "    # Get the monomer data\n",
    "    for monomer_num in [1,2]:\n",
    "        monomer_id = f'{system_id:02d}_{monomer_num}'\n",
    "        monomer_name = dimer_info.loc[system_id,f'mol{monomer_num}']\n",
    "        monomer_ref_id = monomer_info.loc[monomer_name, 'ref']\n",
    "        monomer_ref_data = monomer_dmc_total_energy_data[(monomer_dmc_total_energy_data['mol_id'] == monomer_ref_id) & (monomer_dmc_total_energy_data['dmc_type'] == 'DMCdla5') & (monomer_dmc_total_energy_data['dmc_Jas'] == 'Jopt')].sort_values('tau', ascending=False)\n",
    "        monomer_ref_data.set_index( 'tau', inplace=True )\n",
    "        # Add the geometry correction\n",
    "        monomer_ref_data['ene'] = monomer_ref_data['ene'] + monomer_geometry_correction_data[monomer_geometry_correction_data['mol_id'] == monomer_id]['ene-ref'].values[0]\n",
    "        monomer_data[monomer_num] = monomer_ref_data\n",
    "    dmc_energy_data[system_id]['total_energy_dimer'] = system_data.copy()\n",
    "    dmc_energy_data[system_id]['total_energy_monomer_1'] = monomer_data[1]\n",
    "    dmc_energy_data[system_id]['total_energy_monomer_2'] = monomer_data[2]\n",
    "    # Compute the binding energy\n",
    "    system_data['binding_energy'] = system_data['ene'] - monomer_data[1]['ene'] - monomer_data[2]['ene']\n",
    "    system_data['binding_energy_err'] = (system_data['err']**2 + monomer_data[1]['err']**2 + monomer_data[2]['err']**2)**0.5\n",
    "    dmc_energy_data[system_id]['binding_energy'] = system_data"
   ]
  },
  {
   "cell_type": "markdown",
   "metadata": {},
   "source": [
    "## Analyzing previous CCSD(T) literature and generating CCSD(cT)-fit"
   ]
  },
  {
   "cell_type": "code",
   "execution_count": 87,
   "metadata": {},
   "outputs": [],
   "source": [
    "keshwarni_cc_data = pd.read_excel('Data/Kesharwani_10.1071_CH17588_SI.xlsx', sheet_name='F12c_aVTZ-F12 CCSD',usecols = 'J:L').dropna().drop([7, 8]).reset_index(drop=True)\n",
    "keshwarni_cc_data.columns = ['HF', 'MP2', 'CCSD']\n",
    "keshwarni_cc_data['(T)'] = pd.read_excel('Data/Kesharwani_10.1071_CH17588_SI.xlsx', sheet_name='(T) ',usecols = 'P').drop(list(range(19))).reset_index(drop=True)['Unnamed: 15']\n",
    "keshwarni_cc_data['(cT)'] = keshwarni_cc_data['(T)'] /( 0.7764+0.278*(keshwarni_cc_data['MP2'] - keshwarni_cc_data['HF'])/(keshwarni_cc_data['CCSD']  - keshwarni_cc_data['HF']))\n",
    "keshwarni_cc_data['(cT)-(T)'] = keshwarni_cc_data['(cT)'] - keshwarni_cc_data['(T)']\n",
    "\n",
    "# Load CCSD(T) references\n",
    "ccsdt_references = pd.read_csv('Data/Refs.csv', index_col=0)\n",
    "ccsdt_references['CCSD(T) Final'] = ccsdt_references['Hobza_1']\n",
    "ccsdt_references['CCSD(T) Error'] = ccsdt_references['Hobza_1']\n",
    "\n",
    "ccsdt_references['CCSD(cT)-fit Final'] = ccsdt_references['Hobza_1']\n",
    "\n",
    "for i in range(66):\n",
    "    if np.isnan(ccsdt_references['Martin_Gold'][i+1]):\n",
    "        ccsdt_references.loc[i+1,'CCSD(T) Final'] = np.average([ccsdt_references['Hobza_2'][i+1], ccsdt_references['Martin_Silver'][i+1], ccsdt_references['14k-Gold'][i+1]])\n",
    "        ccsdt_references.loc[i+1,'CCSD(T) Error'] = np.std([ccsdt_references['Hobza_2'][i+1], ccsdt_references['Martin_Silver'][i+1], ccsdt_references['14k-Gold'][i+1]])\n",
    "        ccsdt_references.loc[i+1,'CCSD(cT)-fit Final'] = ccsdt_references.loc[i+1,'Martin_Silver'] - keshwarni_cc_data['(cT)-(T)'][i]\n",
    "\n",
    "    else:\n",
    "        ccsdt_references.loc[i+1,'CCSD(T) Final'] = np.average([ccsdt_references['Hobza_2'][i+1], ccsdt_references['Martin_Gold'][i+1], ccsdt_references['14k-Gold'][i+1]])\n",
    "        ccsdt_references.loc[i+1,'CCSD(T) Error'] = np.std([ccsdt_references['Hobza_2'][i+1], ccsdt_references['Martin_Gold'][i+1], ccsdt_references['14k-Gold'][i+1]])\n",
    "        ccsdt_references.loc[i+1,'CCSD(cT)-fit Final'] = ccsdt_references.loc[i+1,'Martin_Silver'] - keshwarni_cc_data['(cT)-(T)'][i]\n",
    "    "
   ]
  },
  {
   "cell_type": "markdown",
   "metadata": {},
   "source": [
    "## SI - Timestep dependence for the binding energy of each S66 system"
   ]
  },
  {
   "cell_type": "code",
   "execution_count": 99,
   "metadata": {},
   "outputs": [
    {
     "data": {
      "text/plain": [
       "[0.3,\n",
       " 0.25,\n",
       " 0.2,\n",
       " 0.16,\n",
       " 0.13,\n",
       " 0.1,\n",
       " 0.08,\n",
       " 0.06,\n",
       " 0.05,\n",
       " 0.04,\n",
       " 0.03,\n",
       " 0.02,\n",
       " 0.01,\n",
       " 0.003,\n",
       " 0.001]"
      ]
     },
     "execution_count": 99,
     "metadata": {},
     "output_type": "execute_result"
    }
   ],
   "source": [
    "dmc_energy_data[1]['binding_energy'].index.tolist()"
   ]
  },
  {
   "cell_type": "code",
   "execution_count": 97,
   "metadata": {},
   "outputs": [
    {
     "data": {
      "text/plain": [
       "Index([  0.3,  0.25,   0.2,  0.16,  0.13,   0.1,  0.08,  0.06,  0.05,  0.04,\n",
       "        0.03,  0.02,  0.01, 0.003, 0.001],\n",
       "      dtype='float64', name='tau')"
      ]
     },
     "execution_count": 97,
     "metadata": {},
     "output_type": "execute_result"
    }
   ],
   "source": [
    "dmc_energy_data[1]['binding_energy']['binding_energy'].index"
   ]
  },
  {
   "cell_type": "code",
   "execution_count": 139,
   "metadata": {},
   "outputs": [
    {
     "name": "stderr",
     "output_type": "stream",
     "text": [
      "/tmp/ipykernel_5814/3807468315.py:9: RuntimeWarning: More than 20 figures have been opened. Figures created through the pyplot interface (`matplotlib.pyplot.figure`) are retained until explicitly closed and may consume too much memory. (To control this warning, see the rcParam `figure.max_open_warning`). Consider using `matplotlib.pyplot.close()`.\n",
      "  fig, ax = plt.subplots(1,2,figsize=(6.69,3) )\n"
     ]
    },
    {
     "name": "stdout",
     "output_type": "stream",
     "text": [
      "quad 01_Water-Water: -5.19(2) -5.17(2) -0.02\n"
     ]
    },
    {
     "name": "stderr",
     "output_type": "stream",
     "text": [
      "/tmp/ipykernel_5814/3807468315.py:9: RuntimeWarning: More than 20 figures have been opened. Figures created through the pyplot interface (`matplotlib.pyplot.figure`) are retained until explicitly closed and may consume too much memory. (To control this warning, see the rcParam `figure.max_open_warning`). Consider using `matplotlib.pyplot.close()`.\n",
      "  fig, ax = plt.subplots(1,2,figsize=(6.69,3) )\n"
     ]
    },
    {
     "name": "stdout",
     "output_type": "stream",
     "text": [
      "quad 02_Water-MeOH: -5.88(2) -5.86(3) -0.02\n"
     ]
    },
    {
     "name": "stderr",
     "output_type": "stream",
     "text": [
      "/tmp/ipykernel_5814/3807468315.py:9: RuntimeWarning: More than 20 figures have been opened. Figures created through the pyplot interface (`matplotlib.pyplot.figure`) are retained until explicitly closed and may consume too much memory. (To control this warning, see the rcParam `figure.max_open_warning`). Consider using `matplotlib.pyplot.close()`.\n",
      "  fig, ax = plt.subplots(1,2,figsize=(6.69,3) )\n"
     ]
    },
    {
     "name": "stdout",
     "output_type": "stream",
     "text": [
      "quad 03_Water-MeNH2: -7.17(2) -7.18(3) 0.02\n"
     ]
    },
    {
     "name": "stderr",
     "output_type": "stream",
     "text": [
      "/tmp/ipykernel_5814/3807468315.py:9: RuntimeWarning: More than 20 figures have been opened. Figures created through the pyplot interface (`matplotlib.pyplot.figure`) are retained until explicitly closed and may consume too much memory. (To control this warning, see the rcParam `figure.max_open_warning`). Consider using `matplotlib.pyplot.close()`.\n",
      "  fig, ax = plt.subplots(1,2,figsize=(6.69,3) )\n"
     ]
    },
    {
     "name": "stdout",
     "output_type": "stream",
     "text": [
      "lin 04_Water-Peptide: -8.40(3) -8.51(5) 0.11\n"
     ]
    },
    {
     "name": "stderr",
     "output_type": "stream",
     "text": [
      "/tmp/ipykernel_5814/3807468315.py:9: RuntimeWarning: More than 20 figures have been opened. Figures created through the pyplot interface (`matplotlib.pyplot.figure`) are retained until explicitly closed and may consume too much memory. (To control this warning, see the rcParam `figure.max_open_warning`). Consider using `matplotlib.pyplot.close()`.\n",
      "  fig, ax = plt.subplots(1,2,figsize=(6.69,3) )\n"
     ]
    },
    {
     "name": "stdout",
     "output_type": "stream",
     "text": [
      "quad 05_MeOH-MeOH: -6.01(2) -5.99(3) -0.02\n"
     ]
    },
    {
     "name": "stderr",
     "output_type": "stream",
     "text": [
      "/tmp/ipykernel_5814/3807468315.py:9: RuntimeWarning: More than 20 figures have been opened. Figures created through the pyplot interface (`matplotlib.pyplot.figure`) are retained until explicitly closed and may consume too much memory. (To control this warning, see the rcParam `figure.max_open_warning`). Consider using `matplotlib.pyplot.close()`.\n",
      "  fig, ax = plt.subplots(1,2,figsize=(6.69,3) )\n"
     ]
    },
    {
     "name": "stdout",
     "output_type": "stream",
     "text": [
      "quad 06_MeOH-MeNH2: -7.82(3) -7.83(4) 0.01\n"
     ]
    },
    {
     "name": "stderr",
     "output_type": "stream",
     "text": [
      "/home/shixubenjamin/Projects/DMC/Analysis/24_07_04-S66_Dataset/Scripts/myfit.py:38: OptimizeWarning: Covariance of the parameters could not be estimated\n",
      "  popt, pcov = curve_fit( fitfun, xdata=xdata, ydata=ydata, sigma=ye )\n",
      "/tmp/ipykernel_5814/3807468315.py:9: RuntimeWarning: More than 20 figures have been opened. Figures created through the pyplot interface (`matplotlib.pyplot.figure`) are retained until explicitly closed and may consume too much memory. (To control this warning, see the rcParam `figure.max_open_warning`). Consider using `matplotlib.pyplot.close()`.\n",
      "  fig, ax = plt.subplots(1,2,figsize=(6.69,3) )\n"
     ]
    },
    {
     "name": "stdout",
     "output_type": "stream",
     "text": [
      "quad 07_MeOH-Peptide: -8.44(4) -8.52(5) 0.08\n"
     ]
    },
    {
     "name": "stderr",
     "output_type": "stream",
     "text": [
      "/tmp/ipykernel_5814/3807468315.py:9: RuntimeWarning: More than 20 figures have been opened. Figures created through the pyplot interface (`matplotlib.pyplot.figure`) are retained until explicitly closed and may consume too much memory. (To control this warning, see the rcParam `figure.max_open_warning`). Consider using `matplotlib.pyplot.close()`.\n",
      "  fig, ax = plt.subplots(1,2,figsize=(6.69,3) )\n"
     ]
    },
    {
     "name": "stdout",
     "output_type": "stream",
     "text": [
      "quad 08_MeOH-Water: -5.30(2) -5.26(3) -0.03\n"
     ]
    },
    {
     "name": "stderr",
     "output_type": "stream",
     "text": [
      "/tmp/ipykernel_5814/3807468315.py:9: RuntimeWarning: More than 20 figures have been opened. Figures created through the pyplot interface (`matplotlib.pyplot.figure`) are retained until explicitly closed and may consume too much memory. (To control this warning, see the rcParam `figure.max_open_warning`). Consider using `matplotlib.pyplot.close()`.\n",
      "  fig, ax = plt.subplots(1,2,figsize=(6.69,3) )\n"
     ]
    },
    {
     "name": "stdout",
     "output_type": "stream",
     "text": [
      "quad 09_MeNH2-MeOH: -3.13(3) -3.12(4) -0.01\n"
     ]
    },
    {
     "name": "stderr",
     "output_type": "stream",
     "text": [
      "/tmp/ipykernel_5814/3807468315.py:9: RuntimeWarning: More than 20 figures have been opened. Figures created through the pyplot interface (`matplotlib.pyplot.figure`) are retained until explicitly closed and may consume too much memory. (To control this warning, see the rcParam `figure.max_open_warning`). Consider using `matplotlib.pyplot.close()`.\n",
      "  fig, ax = plt.subplots(1,2,figsize=(6.69,3) )\n"
     ]
    },
    {
     "name": "stdout",
     "output_type": "stream",
     "text": [
      "quad 10_MeNH2-MeNH2: -4.20(2) -4.19(3) -0.00\n"
     ]
    },
    {
     "name": "stderr",
     "output_type": "stream",
     "text": [
      "/tmp/ipykernel_5814/3807468315.py:9: RuntimeWarning: More than 20 figures have been opened. Figures created through the pyplot interface (`matplotlib.pyplot.figure`) are retained until explicitly closed and may consume too much memory. (To control this warning, see the rcParam `figure.max_open_warning`). Consider using `matplotlib.pyplot.close()`.\n",
      "  fig, ax = plt.subplots(1,2,figsize=(6.69,3) )\n"
     ]
    },
    {
     "name": "stdout",
     "output_type": "stream",
     "text": [
      "quad 11_MeNH2-Peptide: -5.37(3) -5.39(5) 0.03\n"
     ]
    },
    {
     "name": "stderr",
     "output_type": "stream",
     "text": [
      "/tmp/ipykernel_5814/3807468315.py:9: RuntimeWarning: More than 20 figures have been opened. Figures created through the pyplot interface (`matplotlib.pyplot.figure`) are retained until explicitly closed and may consume too much memory. (To control this warning, see the rcParam `figure.max_open_warning`). Consider using `matplotlib.pyplot.close()`.\n",
      "  fig, ax = plt.subplots(1,2,figsize=(6.69,3) )\n"
     ]
    },
    {
     "name": "stdout",
     "output_type": "stream",
     "text": [
      "quad 12_MeNH2-Water: -7.52(2) -7.53(3) 0.01\n"
     ]
    },
    {
     "name": "stderr",
     "output_type": "stream",
     "text": [
      "/tmp/ipykernel_5814/3807468315.py:9: RuntimeWarning: More than 20 figures have been opened. Figures created through the pyplot interface (`matplotlib.pyplot.figure`) are retained until explicitly closed and may consume too much memory. (To control this warning, see the rcParam `figure.max_open_warning`). Consider using `matplotlib.pyplot.close()`.\n",
      "  fig, ax = plt.subplots(1,2,figsize=(6.69,3) )\n"
     ]
    },
    {
     "name": "stdout",
     "output_type": "stream",
     "text": [
      "quad 13_Peptide-MeOH: -6.25(4) -6.31(5) 0.06\n"
     ]
    },
    {
     "name": "stderr",
     "output_type": "stream",
     "text": [
      "/tmp/ipykernel_5814/3807468315.py:9: RuntimeWarning: More than 20 figures have been opened. Figures created through the pyplot interface (`matplotlib.pyplot.figure`) are retained until explicitly closed and may consume too much memory. (To control this warning, see the rcParam `figure.max_open_warning`). Consider using `matplotlib.pyplot.close()`.\n",
      "  fig, ax = plt.subplots(1,2,figsize=(6.69,3) )\n"
     ]
    },
    {
     "name": "stdout",
     "output_type": "stream",
     "text": [
      "quad 14_Peptide-MeNH2: -7.50(3) -7.52(5) 0.02\n"
     ]
    },
    {
     "name": "stderr",
     "output_type": "stream",
     "text": [
      "/home/shixubenjamin/Projects/DMC/Analysis/24_07_04-S66_Dataset/Scripts/myfit.py:38: OptimizeWarning: Covariance of the parameters could not be estimated\n",
      "  popt, pcov = curve_fit( fitfun, xdata=xdata, ydata=ydata, sigma=ye )\n",
      "/tmp/ipykernel_5814/3807468315.py:9: RuntimeWarning: More than 20 figures have been opened. Figures created through the pyplot interface (`matplotlib.pyplot.figure`) are retained until explicitly closed and may consume too much memory. (To control this warning, see the rcParam `figure.max_open_warning`). Consider using `matplotlib.pyplot.close()`.\n",
      "  fig, ax = plt.subplots(1,2,figsize=(6.69,3) )\n"
     ]
    },
    {
     "name": "stdout",
     "output_type": "stream",
     "text": [
      "quad 15_Peptide-Peptide: -8.78(4) -8.85(6) 0.07\n"
     ]
    },
    {
     "name": "stderr",
     "output_type": "stream",
     "text": [
      "/tmp/ipykernel_5814/3807468315.py:9: RuntimeWarning: More than 20 figures have been opened. Figures created through the pyplot interface (`matplotlib.pyplot.figure`) are retained until explicitly closed and may consume too much memory. (To control this warning, see the rcParam `figure.max_open_warning`). Consider using `matplotlib.pyplot.close()`.\n",
      "  fig, ax = plt.subplots(1,2,figsize=(6.69,3) )\n"
     ]
    },
    {
     "name": "stdout",
     "output_type": "stream",
     "text": [
      "quad 16_Peptide-Water: -5.33(3) -5.33(5) 0.01\n"
     ]
    },
    {
     "name": "stderr",
     "output_type": "stream",
     "text": [
      "/tmp/ipykernel_5814/3807468315.py:9: RuntimeWarning: More than 20 figures have been opened. Figures created through the pyplot interface (`matplotlib.pyplot.figure`) are retained until explicitly closed and may consume too much memory. (To control this warning, see the rcParam `figure.max_open_warning`). Consider using `matplotlib.pyplot.close()`.\n",
      "  fig, ax = plt.subplots(1,2,figsize=(6.69,3) )\n"
     ]
    },
    {
     "name": "stdout",
     "output_type": "stream",
     "text": [
      "quad 17_Uracil-Uracil_BP: -17.75(5) -17.79(7) 0.04\n"
     ]
    },
    {
     "name": "stderr",
     "output_type": "stream",
     "text": [
      "/tmp/ipykernel_5814/3807468315.py:9: RuntimeWarning: More than 20 figures have been opened. Figures created through the pyplot interface (`matplotlib.pyplot.figure`) are retained until explicitly closed and may consume too much memory. (To control this warning, see the rcParam `figure.max_open_warning`). Consider using `matplotlib.pyplot.close()`.\n",
      "  fig, ax = plt.subplots(1,2,figsize=(6.69,3) )\n"
     ]
    },
    {
     "name": "stdout",
     "output_type": "stream",
     "text": [
      "quad 18_Water-Pyridine: -7.21(3) -7.31(5) 0.10\n"
     ]
    },
    {
     "name": "stderr",
     "output_type": "stream",
     "text": [
      "/tmp/ipykernel_5814/3807468315.py:9: RuntimeWarning: More than 20 figures have been opened. Figures created through the pyplot interface (`matplotlib.pyplot.figure`) are retained until explicitly closed and may consume too much memory. (To control this warning, see the rcParam `figure.max_open_warning`). Consider using `matplotlib.pyplot.close()`.\n",
      "  fig, ax = plt.subplots(1,2,figsize=(6.69,3) )\n"
     ]
    },
    {
     "name": "stdout",
     "output_type": "stream",
     "text": [
      "quad 19_MeOH-Pyridine: -7.79(4) -7.88(5) 0.09\n"
     ]
    },
    {
     "name": "stderr",
     "output_type": "stream",
     "text": [
      "/tmp/ipykernel_5814/3807468315.py:9: RuntimeWarning: More than 20 figures have been opened. Figures created through the pyplot interface (`matplotlib.pyplot.figure`) are retained until explicitly closed and may consume too much memory. (To control this warning, see the rcParam `figure.max_open_warning`). Consider using `matplotlib.pyplot.close()`.\n",
      "  fig, ax = plt.subplots(1,2,figsize=(6.69,3) )\n"
     ]
    },
    {
     "name": "stdout",
     "output_type": "stream",
     "text": [
      "lin 20_AcOH-AcOH: -20.38(4) -20.26(6) -0.13\n"
     ]
    },
    {
     "name": "stderr",
     "output_type": "stream",
     "text": [
      "/tmp/ipykernel_5814/3807468315.py:9: RuntimeWarning: More than 20 figures have been opened. Figures created through the pyplot interface (`matplotlib.pyplot.figure`) are retained until explicitly closed and may consume too much memory. (To control this warning, see the rcParam `figure.max_open_warning`). Consider using `matplotlib.pyplot.close()`.\n",
      "  fig, ax = plt.subplots(1,2,figsize=(6.69,3) )\n"
     ]
    },
    {
     "name": "stdout",
     "output_type": "stream",
     "text": [
      "quad 21_AcNH2-AcNH2: -16.83(4) -16.85(5) 0.01\n"
     ]
    },
    {
     "name": "stderr",
     "output_type": "stream",
     "text": [
      "/tmp/ipykernel_5814/3807468315.py:9: RuntimeWarning: More than 20 figures have been opened. Figures created through the pyplot interface (`matplotlib.pyplot.figure`) are retained until explicitly closed and may consume too much memory. (To control this warning, see the rcParam `figure.max_open_warning`). Consider using `matplotlib.pyplot.close()`.\n",
      "  fig, ax = plt.subplots(1,2,figsize=(6.69,3) )\n"
     ]
    },
    {
     "name": "stdout",
     "output_type": "stream",
     "text": [
      "quad 22_AcOH-Uracil: -20.37(5) -20.41(7) 0.04\n"
     ]
    },
    {
     "name": "stderr",
     "output_type": "stream",
     "text": [
      "/tmp/ipykernel_5814/3807468315.py:9: RuntimeWarning: More than 20 figures have been opened. Figures created through the pyplot interface (`matplotlib.pyplot.figure`) are retained until explicitly closed and may consume too much memory. (To control this warning, see the rcParam `figure.max_open_warning`). Consider using `matplotlib.pyplot.close()`.\n",
      "  fig, ax = plt.subplots(1,2,figsize=(6.69,3) )\n"
     ]
    },
    {
     "name": "stdout",
     "output_type": "stream",
     "text": [
      "quad 23_AcNH2-Uracil: -19.72(4) -19.80(6) 0.08\n"
     ]
    },
    {
     "name": "stderr",
     "output_type": "stream",
     "text": [
      "/tmp/ipykernel_5814/3807468315.py:9: RuntimeWarning: More than 20 figures have been opened. Figures created through the pyplot interface (`matplotlib.pyplot.figure`) are retained until explicitly closed and may consume too much memory. (To control this warning, see the rcParam `figure.max_open_warning`). Consider using `matplotlib.pyplot.close()`.\n",
      "  fig, ax = plt.subplots(1,2,figsize=(6.69,3) )\n"
     ]
    },
    {
     "name": "stdout",
     "output_type": "stream",
     "text": [
      "quad 24_Benzene-Benzene_pi-pi: -2.28(4) -2.33(6) 0.05\n"
     ]
    },
    {
     "name": "stderr",
     "output_type": "stream",
     "text": [
      "/tmp/ipykernel_5814/3807468315.py:9: RuntimeWarning: More than 20 figures have been opened. Figures created through the pyplot interface (`matplotlib.pyplot.figure`) are retained until explicitly closed and may consume too much memory. (To control this warning, see the rcParam `figure.max_open_warning`). Consider using `matplotlib.pyplot.close()`.\n",
      "  fig, ax = plt.subplots(1,2,figsize=(6.69,3) )\n"
     ]
    },
    {
     "name": "stdout",
     "output_type": "stream",
     "text": [
      "lin 25_Pyridine-Pyridine_pi-pi: -3.34(4) -3.55(6) 0.21\n"
     ]
    },
    {
     "name": "stderr",
     "output_type": "stream",
     "text": [
      "/tmp/ipykernel_5814/3807468315.py:9: RuntimeWarning: More than 20 figures have been opened. Figures created through the pyplot interface (`matplotlib.pyplot.figure`) are retained until explicitly closed and may consume too much memory. (To control this warning, see the rcParam `figure.max_open_warning`). Consider using `matplotlib.pyplot.close()`.\n",
      "  fig, ax = plt.subplots(1,2,figsize=(6.69,3) )\n"
     ]
    },
    {
     "name": "stdout",
     "output_type": "stream",
     "text": [
      "quad 26_Uracil-Uracil_pi-pi: -9.26(4) -9.32(6) 0.06\n"
     ]
    },
    {
     "name": "stderr",
     "output_type": "stream",
     "text": [
      "/tmp/ipykernel_5814/3807468315.py:9: RuntimeWarning: More than 20 figures have been opened. Figures created through the pyplot interface (`matplotlib.pyplot.figure`) are retained until explicitly closed and may consume too much memory. (To control this warning, see the rcParam `figure.max_open_warning`). Consider using `matplotlib.pyplot.close()`.\n",
      "  fig, ax = plt.subplots(1,2,figsize=(6.69,3) )\n"
     ]
    },
    {
     "name": "stdout",
     "output_type": "stream",
     "text": [
      "lin 27_Benzene-Pyridine_pi-pi: -2.85(4) -3.02(6) 0.17\n"
     ]
    },
    {
     "name": "stderr",
     "output_type": "stream",
     "text": [
      "/tmp/ipykernel_5814/3807468315.py:9: RuntimeWarning: More than 20 figures have been opened. Figures created through the pyplot interface (`matplotlib.pyplot.figure`) are retained until explicitly closed and may consume too much memory. (To control this warning, see the rcParam `figure.max_open_warning`). Consider using `matplotlib.pyplot.close()`.\n",
      "  fig, ax = plt.subplots(1,2,figsize=(6.69,3) )\n"
     ]
    },
    {
     "name": "stdout",
     "output_type": "stream",
     "text": [
      "quad 28_Benzene-Uracil_pi-pi: -5.03(5) -5.11(7) 0.08\n"
     ]
    },
    {
     "name": "stderr",
     "output_type": "stream",
     "text": [
      "/tmp/ipykernel_5814/3807468315.py:9: RuntimeWarning: More than 20 figures have been opened. Figures created through the pyplot interface (`matplotlib.pyplot.figure`) are retained until explicitly closed and may consume too much memory. (To control this warning, see the rcParam `figure.max_open_warning`). Consider using `matplotlib.pyplot.close()`.\n",
      "  fig, ax = plt.subplots(1,2,figsize=(6.69,3) )\n"
     ]
    },
    {
     "name": "stdout",
     "output_type": "stream",
     "text": [
      "quad 29_Pyridine-Uracil_pi-pi: -6.37(5) -6.44(7) 0.07\n"
     ]
    },
    {
     "name": "stderr",
     "output_type": "stream",
     "text": [
      "/tmp/ipykernel_5814/3807468315.py:9: RuntimeWarning: More than 20 figures have been opened. Figures created through the pyplot interface (`matplotlib.pyplot.figure`) are retained until explicitly closed and may consume too much memory. (To control this warning, see the rcParam `figure.max_open_warning`). Consider using `matplotlib.pyplot.close()`.\n",
      "  fig, ax = plt.subplots(1,2,figsize=(6.69,3) )\n"
     ]
    },
    {
     "name": "stdout",
     "output_type": "stream",
     "text": [
      "quad 30_Benzene-Ethene: -1.14(3) -1.11(5) -0.03\n"
     ]
    },
    {
     "name": "stderr",
     "output_type": "stream",
     "text": [
      "/tmp/ipykernel_5814/3807468315.py:9: RuntimeWarning: More than 20 figures have been opened. Figures created through the pyplot interface (`matplotlib.pyplot.figure`) are retained until explicitly closed and may consume too much memory. (To control this warning, see the rcParam `figure.max_open_warning`). Consider using `matplotlib.pyplot.close()`.\n",
      "  fig, ax = plt.subplots(1,2,figsize=(6.69,3) )\n"
     ]
    },
    {
     "name": "stdout",
     "output_type": "stream",
     "text": [
      "quad 31_Uracil-Ethene: -3.15(4) -3.18(6) 0.03\n"
     ]
    },
    {
     "name": "stderr",
     "output_type": "stream",
     "text": [
      "/tmp/ipykernel_5814/3807468315.py:9: RuntimeWarning: More than 20 figures have been opened. Figures created through the pyplot interface (`matplotlib.pyplot.figure`) are retained until explicitly closed and may consume too much memory. (To control this warning, see the rcParam `figure.max_open_warning`). Consider using `matplotlib.pyplot.close()`.\n",
      "  fig, ax = plt.subplots(1,2,figsize=(6.69,3) )\n"
     ]
    },
    {
     "name": "stdout",
     "output_type": "stream",
     "text": [
      "quad 32_Uracil-Ethyne: -3.53(4) -3.55(6) 0.02\n"
     ]
    },
    {
     "name": "stderr",
     "output_type": "stream",
     "text": [
      "/tmp/ipykernel_5814/3807468315.py:9: RuntimeWarning: More than 20 figures have been opened. Figures created through the pyplot interface (`matplotlib.pyplot.figure`) are retained until explicitly closed and may consume too much memory. (To control this warning, see the rcParam `figure.max_open_warning`). Consider using `matplotlib.pyplot.close()`.\n",
      "  fig, ax = plt.subplots(1,2,figsize=(6.69,3) )\n"
     ]
    },
    {
     "name": "stdout",
     "output_type": "stream",
     "text": [
      "quad 33_Pyridine-Ethene: -1.66(3) -1.72(5) 0.06\n"
     ]
    },
    {
     "name": "stderr",
     "output_type": "stream",
     "text": [
      "/tmp/ipykernel_5814/3807468315.py:9: RuntimeWarning: More than 20 figures have been opened. Figures created through the pyplot interface (`matplotlib.pyplot.figure`) are retained until explicitly closed and may consume too much memory. (To control this warning, see the rcParam `figure.max_open_warning`). Consider using `matplotlib.pyplot.close()`.\n",
      "  fig, ax = plt.subplots(1,2,figsize=(6.69,3) )\n"
     ]
    },
    {
     "name": "stdout",
     "output_type": "stream",
     "text": [
      "quad 34_Pentane-Pentane: -3.52(4) -3.52(5) -0.00\n"
     ]
    },
    {
     "name": "stderr",
     "output_type": "stream",
     "text": [
      "/tmp/ipykernel_5814/3807468315.py:9: RuntimeWarning: More than 20 figures have been opened. Figures created through the pyplot interface (`matplotlib.pyplot.figure`) are retained until explicitly closed and may consume too much memory. (To control this warning, see the rcParam `figure.max_open_warning`). Consider using `matplotlib.pyplot.close()`.\n",
      "  fig, ax = plt.subplots(1,2,figsize=(6.69,3) )\n"
     ]
    },
    {
     "name": "stdout",
     "output_type": "stream",
     "text": [
      "quad 35_Neopentane-Pentane: -2.41(4) -2.41(6) -0.01\n"
     ]
    },
    {
     "name": "stderr",
     "output_type": "stream",
     "text": [
      "/tmp/ipykernel_5814/3807468315.py:9: RuntimeWarning: More than 20 figures have been opened. Figures created through the pyplot interface (`matplotlib.pyplot.figure`) are retained until explicitly closed and may consume too much memory. (To control this warning, see the rcParam `figure.max_open_warning`). Consider using `matplotlib.pyplot.close()`.\n",
      "  fig, ax = plt.subplots(1,2,figsize=(6.69,3) )\n"
     ]
    },
    {
     "name": "stdout",
     "output_type": "stream",
     "text": [
      "quad 36_Neopentane-Neopentane: -1.65(4) -1.70(6) 0.05\n"
     ]
    },
    {
     "name": "stderr",
     "output_type": "stream",
     "text": [
      "/tmp/ipykernel_5814/3807468315.py:9: RuntimeWarning: More than 20 figures have been opened. Figures created through the pyplot interface (`matplotlib.pyplot.figure`) are retained until explicitly closed and may consume too much memory. (To control this warning, see the rcParam `figure.max_open_warning`). Consider using `matplotlib.pyplot.close()`.\n",
      "  fig, ax = plt.subplots(1,2,figsize=(6.69,3) )\n"
     ]
    },
    {
     "name": "stdout",
     "output_type": "stream",
     "text": [
      "quad 37_Cyclopentane-Neopentane: -2.19(4) -2.17(6) -0.02\n"
     ]
    },
    {
     "name": "stderr",
     "output_type": "stream",
     "text": [
      "/tmp/ipykernel_5814/3807468315.py:9: RuntimeWarning: More than 20 figures have been opened. Figures created through the pyplot interface (`matplotlib.pyplot.figure`) are retained until explicitly closed and may consume too much memory. (To control this warning, see the rcParam `figure.max_open_warning`). Consider using `matplotlib.pyplot.close()`.\n",
      "  fig, ax = plt.subplots(1,2,figsize=(6.69,3) )\n"
     ]
    },
    {
     "name": "stdout",
     "output_type": "stream",
     "text": [
      "quad 38_Cyclopentane-Cyclopentane: -2.83(4) -2.81(6) -0.01\n"
     ]
    },
    {
     "name": "stderr",
     "output_type": "stream",
     "text": [
      "/tmp/ipykernel_5814/3807468315.py:9: RuntimeWarning: More than 20 figures have been opened. Figures created through the pyplot interface (`matplotlib.pyplot.figure`) are retained until explicitly closed and may consume too much memory. (To control this warning, see the rcParam `figure.max_open_warning`). Consider using `matplotlib.pyplot.close()`.\n",
      "  fig, ax = plt.subplots(1,2,figsize=(6.69,3) )\n"
     ]
    },
    {
     "name": "stdout",
     "output_type": "stream",
     "text": [
      "quad 39_Benzene-Cyclopentane: -3.23(4) -3.21(6) -0.02\n"
     ]
    },
    {
     "name": "stderr",
     "output_type": "stream",
     "text": [
      "/tmp/ipykernel_5814/3807468315.py:9: RuntimeWarning: More than 20 figures have been opened. Figures created through the pyplot interface (`matplotlib.pyplot.figure`) are retained until explicitly closed and may consume too much memory. (To control this warning, see the rcParam `figure.max_open_warning`). Consider using `matplotlib.pyplot.close()`.\n",
      "  fig, ax = plt.subplots(1,2,figsize=(6.69,3) )\n"
     ]
    },
    {
     "name": "stdout",
     "output_type": "stream",
     "text": [
      "quad 40_Benzene-Neopentane: -2.64(4) -2.68(6) 0.04\n"
     ]
    },
    {
     "name": "stderr",
     "output_type": "stream",
     "text": [
      "/tmp/ipykernel_5814/3807468315.py:9: RuntimeWarning: More than 20 figures have been opened. Figures created through the pyplot interface (`matplotlib.pyplot.figure`) are retained until explicitly closed and may consume too much memory. (To control this warning, see the rcParam `figure.max_open_warning`). Consider using `matplotlib.pyplot.close()`.\n",
      "  fig, ax = plt.subplots(1,2,figsize=(6.69,3) )\n"
     ]
    },
    {
     "name": "stdout",
     "output_type": "stream",
     "text": [
      "lin 41_Uracil-Pentane: -4.26(4) -4.43(7) 0.17\n"
     ]
    },
    {
     "name": "stderr",
     "output_type": "stream",
     "text": [
      "/home/shixubenjamin/Projects/DMC/Analysis/24_07_04-S66_Dataset/Scripts/myfit.py:38: OptimizeWarning: Covariance of the parameters could not be estimated\n",
      "  popt, pcov = curve_fit( fitfun, xdata=xdata, ydata=ydata, sigma=ye )\n",
      "/tmp/ipykernel_5814/3807468315.py:9: RuntimeWarning: More than 20 figures have been opened. Figures created through the pyplot interface (`matplotlib.pyplot.figure`) are retained until explicitly closed and may consume too much memory. (To control this warning, see the rcParam `figure.max_open_warning`). Consider using `matplotlib.pyplot.close()`.\n",
      "  fig, ax = plt.subplots(1,2,figsize=(6.69,3) )\n"
     ]
    },
    {
     "name": "stdout",
     "output_type": "stream",
     "text": [
      "quad 42_Uracil-Cyclopentane: -3.54(4) -3.60(6) 0.06\n"
     ]
    },
    {
     "name": "stderr",
     "output_type": "stream",
     "text": [
      "/tmp/ipykernel_5814/3807468315.py:9: RuntimeWarning: More than 20 figures have been opened. Figures created through the pyplot interface (`matplotlib.pyplot.figure`) are retained until explicitly closed and may consume too much memory. (To control this warning, see the rcParam `figure.max_open_warning`). Consider using `matplotlib.pyplot.close()`.\n",
      "  fig, ax = plt.subplots(1,2,figsize=(6.69,3) )\n"
     ]
    },
    {
     "name": "stdout",
     "output_type": "stream",
     "text": [
      "lin 43_Uracil-Neopentane: -3.36(5) -3.48(7) 0.11\n"
     ]
    },
    {
     "name": "stderr",
     "output_type": "stream",
     "text": [
      "/tmp/ipykernel_5814/3807468315.py:9: RuntimeWarning: More than 20 figures have been opened. Figures created through the pyplot interface (`matplotlib.pyplot.figure`) are retained until explicitly closed and may consume too much memory. (To control this warning, see the rcParam `figure.max_open_warning`). Consider using `matplotlib.pyplot.close()`.\n",
      "  fig, ax = plt.subplots(1,2,figsize=(6.69,3) )\n"
     ]
    },
    {
     "name": "stdout",
     "output_type": "stream",
     "text": [
      "quad 44_Ethene-Pentane: -1.87(3) -1.81(4) -0.06\n"
     ]
    },
    {
     "name": "stderr",
     "output_type": "stream",
     "text": [
      "/tmp/ipykernel_5814/3807468315.py:9: RuntimeWarning: More than 20 figures have been opened. Figures created through the pyplot interface (`matplotlib.pyplot.figure`) are retained until explicitly closed and may consume too much memory. (To control this warning, see the rcParam `figure.max_open_warning`). Consider using `matplotlib.pyplot.close()`.\n",
      "  fig, ax = plt.subplots(1,2,figsize=(6.69,3) )\n"
     ]
    },
    {
     "name": "stdout",
     "output_type": "stream",
     "text": [
      "quad 45_Ethyne-Pentane: -1.62(3) -1.57(5) -0.05\n"
     ]
    },
    {
     "name": "stderr",
     "output_type": "stream",
     "text": [
      "/tmp/ipykernel_5814/3807468315.py:9: RuntimeWarning: More than 20 figures have been opened. Figures created through the pyplot interface (`matplotlib.pyplot.figure`) are retained until explicitly closed and may consume too much memory. (To control this warning, see the rcParam `figure.max_open_warning`). Consider using `matplotlib.pyplot.close()`.\n",
      "  fig, ax = plt.subplots(1,2,figsize=(6.69,3) )\n"
     ]
    },
    {
     "name": "stdout",
     "output_type": "stream",
     "text": [
      "quad 46_Peptide-Pentane: -3.84(4) -3.85(6) 0.00\n"
     ]
    },
    {
     "name": "stderr",
     "output_type": "stream",
     "text": [
      "/tmp/ipykernel_5814/3807468315.py:9: RuntimeWarning: More than 20 figures have been opened. Figures created through the pyplot interface (`matplotlib.pyplot.figure`) are retained until explicitly closed and may consume too much memory. (To control this warning, see the rcParam `figure.max_open_warning`). Consider using `matplotlib.pyplot.close()`.\n",
      "  fig, ax = plt.subplots(1,2,figsize=(6.69,3) )\n"
     ]
    },
    {
     "name": "stdout",
     "output_type": "stream",
     "text": [
      "quad 47_Benzene-Benzene_TS: -2.61(4) -2.62(6) 0.01\n"
     ]
    },
    {
     "name": "stderr",
     "output_type": "stream",
     "text": [
      "/tmp/ipykernel_5814/3807468315.py:9: RuntimeWarning: More than 20 figures have been opened. Figures created through the pyplot interface (`matplotlib.pyplot.figure`) are retained until explicitly closed and may consume too much memory. (To control this warning, see the rcParam `figure.max_open_warning`). Consider using `matplotlib.pyplot.close()`.\n",
      "  fig, ax = plt.subplots(1,2,figsize=(6.69,3) )\n"
     ]
    },
    {
     "name": "stdout",
     "output_type": "stream",
     "text": [
      "lin 48_Pyridine-Pyridine_TS: -3.26(4) -3.45(6) 0.19\n"
     ]
    },
    {
     "name": "stderr",
     "output_type": "stream",
     "text": [
      "/tmp/ipykernel_5814/3807468315.py:9: RuntimeWarning: More than 20 figures have been opened. Figures created through the pyplot interface (`matplotlib.pyplot.figure`) are retained until explicitly closed and may consume too much memory. (To control this warning, see the rcParam `figure.max_open_warning`). Consider using `matplotlib.pyplot.close()`.\n",
      "  fig, ax = plt.subplots(1,2,figsize=(6.69,3) )\n"
     ]
    },
    {
     "name": "stdout",
     "output_type": "stream",
     "text": [
      "lin 49_Benzene-Pyridine_TS: -3.01(4) -3.11(6) 0.10\n"
     ]
    },
    {
     "name": "stderr",
     "output_type": "stream",
     "text": [
      "/tmp/ipykernel_5814/3807468315.py:9: RuntimeWarning: More than 20 figures have been opened. Figures created through the pyplot interface (`matplotlib.pyplot.figure`) are retained until explicitly closed and may consume too much memory. (To control this warning, see the rcParam `figure.max_open_warning`). Consider using `matplotlib.pyplot.close()`.\n",
      "  fig, ax = plt.subplots(1,2,figsize=(6.69,3) )\n"
     ]
    },
    {
     "name": "stdout",
     "output_type": "stream",
     "text": [
      "quad 50_Benzene-Ethyne_CH-pi: -2.81(3) -2.87(5) 0.06\n"
     ]
    },
    {
     "name": "stderr",
     "output_type": "stream",
     "text": [
      "/tmp/ipykernel_5814/3807468315.py:9: RuntimeWarning: More than 20 figures have been opened. Figures created through the pyplot interface (`matplotlib.pyplot.figure`) are retained until explicitly closed and may consume too much memory. (To control this warning, see the rcParam `figure.max_open_warning`). Consider using `matplotlib.pyplot.close()`.\n",
      "  fig, ax = plt.subplots(1,2,figsize=(6.69,3) )\n"
     ]
    },
    {
     "name": "stdout",
     "output_type": "stream",
     "text": [
      "quad 51_Ethyne-Ethyne_TS: -1.58(2) -1.55(3) -0.04\n"
     ]
    },
    {
     "name": "stderr",
     "output_type": "stream",
     "text": [
      "/tmp/ipykernel_5814/3807468315.py:9: RuntimeWarning: More than 20 figures have been opened. Figures created through the pyplot interface (`matplotlib.pyplot.figure`) are retained until explicitly closed and may consume too much memory. (To control this warning, see the rcParam `figure.max_open_warning`). Consider using `matplotlib.pyplot.close()`.\n",
      "  fig, ax = plt.subplots(1,2,figsize=(6.69,3) )\n"
     ]
    },
    {
     "name": "stdout",
     "output_type": "stream",
     "text": [
      "quad 52_Benzene-AcOH_OH-pi: -4.66(4) -4.66(6) 0.00\n"
     ]
    },
    {
     "name": "stderr",
     "output_type": "stream",
     "text": [
      "/tmp/ipykernel_5814/3807468315.py:9: RuntimeWarning: More than 20 figures have been opened. Figures created through the pyplot interface (`matplotlib.pyplot.figure`) are retained until explicitly closed and may consume too much memory. (To control this warning, see the rcParam `figure.max_open_warning`). Consider using `matplotlib.pyplot.close()`.\n",
      "  fig, ax = plt.subplots(1,2,figsize=(6.69,3) )\n"
     ]
    },
    {
     "name": "stdout",
     "output_type": "stream",
     "text": [
      "quad 53_Benzene-AcNH2_NH-pi: -4.26(4) -4.25(6) -0.01\n"
     ]
    },
    {
     "name": "stderr",
     "output_type": "stream",
     "text": [
      "/tmp/ipykernel_5814/3807468315.py:9: RuntimeWarning: More than 20 figures have been opened. Figures created through the pyplot interface (`matplotlib.pyplot.figure`) are retained until explicitly closed and may consume too much memory. (To control this warning, see the rcParam `figure.max_open_warning`). Consider using `matplotlib.pyplot.close()`.\n",
      "  fig, ax = plt.subplots(1,2,figsize=(6.69,3) )\n"
     ]
    },
    {
     "name": "stdout",
     "output_type": "stream",
     "text": [
      "quad 54_Benzene-Water_OH-pi: -3.21(3) -3.23(5) 0.02\n"
     ]
    },
    {
     "name": "stderr",
     "output_type": "stream",
     "text": [
      "/tmp/ipykernel_5814/3807468315.py:9: RuntimeWarning: More than 20 figures have been opened. Figures created through the pyplot interface (`matplotlib.pyplot.figure`) are retained until explicitly closed and may consume too much memory. (To control this warning, see the rcParam `figure.max_open_warning`). Consider using `matplotlib.pyplot.close()`.\n",
      "  fig, ax = plt.subplots(1,2,figsize=(6.69,3) )\n"
     ]
    },
    {
     "name": "stdout",
     "output_type": "stream",
     "text": [
      "quad 55_Benzene-MeOH_OH-pi: -4.00(3) -3.97(5) -0.03\n"
     ]
    },
    {
     "name": "stderr",
     "output_type": "stream",
     "text": [
      "/tmp/ipykernel_5814/3807468315.py:9: RuntimeWarning: More than 20 figures have been opened. Figures created through the pyplot interface (`matplotlib.pyplot.figure`) are retained until explicitly closed and may consume too much memory. (To control this warning, see the rcParam `figure.max_open_warning`). Consider using `matplotlib.pyplot.close()`.\n",
      "  fig, ax = plt.subplots(1,2,figsize=(6.69,3) )\n"
     ]
    },
    {
     "name": "stdout",
     "output_type": "stream",
     "text": [
      "quad 56_Benzene-MeNH2_NH-pi: -3.04(3) -3.04(5) 0.00\n"
     ]
    },
    {
     "name": "stderr",
     "output_type": "stream",
     "text": [
      "/tmp/ipykernel_5814/3807468315.py:9: RuntimeWarning: More than 20 figures have been opened. Figures created through the pyplot interface (`matplotlib.pyplot.figure`) are retained until explicitly closed and may consume too much memory. (To control this warning, see the rcParam `figure.max_open_warning`). Consider using `matplotlib.pyplot.close()`.\n",
      "  fig, ax = plt.subplots(1,2,figsize=(6.69,3) )\n"
     ]
    },
    {
     "name": "stdout",
     "output_type": "stream",
     "text": [
      "quad 57_Benzene-Peptide_NH-pi: -5.02(4) -5.11(6) 0.09\n"
     ]
    },
    {
     "name": "stderr",
     "output_type": "stream",
     "text": [
      "/tmp/ipykernel_5814/3807468315.py:9: RuntimeWarning: More than 20 figures have been opened. Figures created through the pyplot interface (`matplotlib.pyplot.figure`) are retained until explicitly closed and may consume too much memory. (To control this warning, see the rcParam `figure.max_open_warning`). Consider using `matplotlib.pyplot.close()`.\n",
      "  fig, ax = plt.subplots(1,2,figsize=(6.69,3) )\n"
     ]
    },
    {
     "name": "stdout",
     "output_type": "stream",
     "text": [
      "quad 58_Pyridine-Pyridine_CH-N: -4.33(4) -4.33(6) 0.00\n"
     ]
    },
    {
     "name": "stderr",
     "output_type": "stream",
     "text": [
      "/tmp/ipykernel_5814/3807468315.py:9: RuntimeWarning: More than 20 figures have been opened. Figures created through the pyplot interface (`matplotlib.pyplot.figure`) are retained until explicitly closed and may consume too much memory. (To control this warning, see the rcParam `figure.max_open_warning`). Consider using `matplotlib.pyplot.close()`.\n",
      "  fig, ax = plt.subplots(1,2,figsize=(6.69,3) )\n"
     ]
    },
    {
     "name": "stdout",
     "output_type": "stream",
     "text": [
      "quad 59_Ethyne-Water_CH-O: -3.02(2) -3.02(3) 0.01\n"
     ]
    },
    {
     "name": "stderr",
     "output_type": "stream",
     "text": [
      "/tmp/ipykernel_5814/3807468315.py:9: RuntimeWarning: More than 20 figures have been opened. Figures created through the pyplot interface (`matplotlib.pyplot.figure`) are retained until explicitly closed and may consume too much memory. (To control this warning, see the rcParam `figure.max_open_warning`). Consider using `matplotlib.pyplot.close()`.\n",
      "  fig, ax = plt.subplots(1,2,figsize=(6.69,3) )\n"
     ]
    },
    {
     "name": "stdout",
     "output_type": "stream",
     "text": [
      "quad 60_Ethyne-AcOH_OH-pi: -5.07(3) -5.00(5) -0.07\n"
     ]
    },
    {
     "name": "stderr",
     "output_type": "stream",
     "text": [
      "/tmp/ipykernel_5814/3807468315.py:9: RuntimeWarning: More than 20 figures have been opened. Figures created through the pyplot interface (`matplotlib.pyplot.figure`) are retained until explicitly closed and may consume too much memory. (To control this warning, see the rcParam `figure.max_open_warning`). Consider using `matplotlib.pyplot.close()`.\n",
      "  fig, ax = plt.subplots(1,2,figsize=(6.69,3) )\n"
     ]
    },
    {
     "name": "stdout",
     "output_type": "stream",
     "text": [
      "quad 61_Pentane-AcOH: -2.60(4) -2.61(6) 0.01\n"
     ]
    },
    {
     "name": "stderr",
     "output_type": "stream",
     "text": [
      "/home/shixubenjamin/Projects/DMC/Analysis/24_07_04-S66_Dataset/Scripts/myfit.py:38: OptimizeWarning: Covariance of the parameters could not be estimated\n",
      "  popt, pcov = curve_fit( fitfun, xdata=xdata, ydata=ydata, sigma=ye )\n",
      "/tmp/ipykernel_5814/3807468315.py:9: RuntimeWarning: More than 20 figures have been opened. Figures created through the pyplot interface (`matplotlib.pyplot.figure`) are retained until explicitly closed and may consume too much memory. (To control this warning, see the rcParam `figure.max_open_warning`). Consider using `matplotlib.pyplot.close()`.\n",
      "  fig, ax = plt.subplots(1,2,figsize=(6.69,3) )\n"
     ]
    },
    {
     "name": "stdout",
     "output_type": "stream",
     "text": [
      "quad 62_Pentane-AcNH2: -3.08(4) -3.07(6) -0.02\n"
     ]
    },
    {
     "name": "stderr",
     "output_type": "stream",
     "text": [
      "/tmp/ipykernel_5814/3807468315.py:9: RuntimeWarning: More than 20 figures have been opened. Figures created through the pyplot interface (`matplotlib.pyplot.figure`) are retained until explicitly closed and may consume too much memory. (To control this warning, see the rcParam `figure.max_open_warning`). Consider using `matplotlib.pyplot.close()`.\n",
      "  fig, ax = plt.subplots(1,2,figsize=(6.69,3) )\n"
     ]
    },
    {
     "name": "stdout",
     "output_type": "stream",
     "text": [
      "quad 63_Benzene-AcOH: -3.57(4) -3.57(6) -0.00\n"
     ]
    },
    {
     "name": "stderr",
     "output_type": "stream",
     "text": [
      "/tmp/ipykernel_5814/3807468315.py:9: RuntimeWarning: More than 20 figures have been opened. Figures created through the pyplot interface (`matplotlib.pyplot.figure`) are retained until explicitly closed and may consume too much memory. (To control this warning, see the rcParam `figure.max_open_warning`). Consider using `matplotlib.pyplot.close()`.\n",
      "  fig, ax = plt.subplots(1,2,figsize=(6.69,3) )\n"
     ]
    },
    {
     "name": "stdout",
     "output_type": "stream",
     "text": [
      "quad 64_Peptide-Ethene: -2.80(3) -2.77(5) -0.03\n"
     ]
    },
    {
     "name": "stderr",
     "output_type": "stream",
     "text": [
      "/home/shixubenjamin/Projects/DMC/Analysis/24_07_04-S66_Dataset/Scripts/myfit.py:38: OptimizeWarning: Covariance of the parameters could not be estimated\n",
      "  popt, pcov = curve_fit( fitfun, xdata=xdata, ydata=ydata, sigma=ye )\n",
      "/tmp/ipykernel_5814/3807468315.py:9: RuntimeWarning: More than 20 figures have been opened. Figures created through the pyplot interface (`matplotlib.pyplot.figure`) are retained until explicitly closed and may consume too much memory. (To control this warning, see the rcParam `figure.max_open_warning`). Consider using `matplotlib.pyplot.close()`.\n",
      "  fig, ax = plt.subplots(1,2,figsize=(6.69,3) )\n"
     ]
    },
    {
     "name": "stdout",
     "output_type": "stream",
     "text": [
      "quad 65_Pyridine-Ethyne: -4.26(3) -4.27(5) 0.01\n"
     ]
    },
    {
     "name": "stderr",
     "output_type": "stream",
     "text": [
      "/tmp/ipykernel_5814/3807468315.py:9: RuntimeWarning: More than 20 figures have been opened. Figures created through the pyplot interface (`matplotlib.pyplot.figure`) are retained until explicitly closed and may consume too much memory. (To control this warning, see the rcParam `figure.max_open_warning`). Consider using `matplotlib.pyplot.close()`.\n",
      "  fig, ax = plt.subplots(1,2,figsize=(6.69,3) )\n"
     ]
    },
    {
     "name": "stdout",
     "output_type": "stream",
     "text": [
      "quad 66_MeNH2-Pyridine: -3.88(3) -3.88(5) -0.01\n"
     ]
    }
   ],
   "source": [
    " # Plot Binding Energy and \n",
    "\n",
    "final_binding_energy =  {f'{system_id}': [0,0] for system_id in range(1,67)}\n",
    "\n",
    "if replot_graphs:\n",
    "    for system_id in range(1,67):\n",
    "        name = dimer_info.loc[system_id,'name']\n",
    "        \n",
    "        fig, ax = plt.subplots(1,2,figsize=(6.69,3) )\n",
    "        ax[0].set_title( f'{name}' )\n",
    "        ax[0].set_xlabel( 'DMC timestep [a.u.]' )\n",
    "        ax[0].set_xticks( [0, 0.003, 0.01, 0.02, 0.03, 0.04, 0.05, 0.06, 0.1, 0.2, 0.3 ] )\n",
    "        ax[0].set_xticklabels( [ '0', '3E-3', '0.01', '0.02', '0.03', '0.04', '0.05', '0.06', '0.1', '0.2', '0.3' ], rotation=90 )\n",
    "        ax[0].set_xlim( [0,0.1*1.03] )\n",
    "        ax[0].set_ylabel( 'Binding Energy [kcal/mol]' )\n",
    "\n",
    "        # reference quantum-chemistry result\n",
    "        # ax[0].axhline( ccsdt_references.loc[system_id,'Hobza_1'], c='c', ls=':', label='Hobza' )\n",
    "        ax[0].axhline( ccsdt_references.loc[system_id,'Hobza_2'], c='m', ls='-.', label='Hobza rev' )\n",
    "        # ax[0].axhline( ccsdt_references.loc[system_id,'Martin_newBronze'], c='y', ls=':',  label='Martin newBronze' )\n",
    "        ax[0].axhline( ccsdt_references.loc[system_id,'Martin_Silver'], c='silver', ls='-.',  label='Martin Silver' )\n",
    "        # ax.axhline( ccsdt_references.loc[system_id,'Martin_PCCP2022'], c='k', ls='--', label='Martin 2022' )\n",
    "        ax[0].axhline( ccsdt_references.loc[system_id,'14k-Gold'], c='gold', ls='--', label='Nagy 14k-Gold' )\n",
    "\n",
    "\n",
    "        ax[0].errorbar(dmc_energy_data[system_id]['binding_energy'].index.tolist(), dmc_energy_data[system_id]['binding_energy']['binding_energy'].values, yerr=dmc_energy_data[system_id]['binding_energy']['binding_energy_err'].values, fmt='o', color='black',markeredgecolor='none',markersize=4, label=r'DMC//DLA')\n",
    "\n",
    "        system_binding_energy_data = dmc_energy_data[system_id]['binding_energy']\n",
    "\n",
    "        taumaxfit = 0.30 #0.10\n",
    "        fitting_data = system_binding_energy_data[ system_binding_energy_data.index <= taumaxfit ]\n",
    "        xdata = fitting_data.index.to_numpy()\n",
    "        ydata = fitting_data['binding_energy'].to_numpy()\n",
    "        sigma = fitting_data['binding_energy_err'].to_numpy()\n",
    "\n",
    "        xfit, m, s = fit_err(xdata,ydata,sigma,fitfun=fun_quad)\n",
    "        ax[0].plot(xfit,m,'--',color='red', label=r'quadratic fit ($E^\\textrm{bind}_{\\tau \\to 0}=$' + f'{m[0]:.2f}' + r'${\\pm}$' + f'{s[0]:.2f})')\n",
    "        ax[0].fill_between(xfit,m-1*s,m+1*s,color='red',alpha=0.2)\n",
    "        # print(f'{name}: limit tau->{xfit[0]} Eb = {m[0]:.2f} +/- {s[0]:.2f}')\n",
    "\n",
    "        binding_energy_data = system_binding_energy_data[ system_binding_energy_data.index <= 0.045 ]\n",
    "        xdata = binding_energy_data.index.to_numpy()\n",
    "        ydata = binding_energy_data['binding_energy'].to_numpy()\n",
    "        sigma = binding_energy_data['binding_energy_err'].to_numpy()\n",
    "\n",
    "        xfit1, m1, s1 = fit_err(xdata,ydata,sigma,fitfun=fun_lin)\n",
    "        ax[0].plot(xfit1,m1,'--',color='blue', label=r'linear fit ($E^\\textrm{bind}_{\\tau \\to 0}=$' + f'{m1[0]:.2f}' + r'${\\pm}$' + f'{s1[0]:.2f})')\n",
    "        ax[0].fill_between(xfit1,m1-1*s1,m1+1*s1,color='blue',alpha=0.2)\n",
    "        if abs(m[0] - m1[0]) > 0.1:\n",
    "            print(f'lin {name}: {m[0]:.2f}({int(round(100*s[0]))}) {m1[0]:.2f}({int(round(100*s1[0]))}) {m[0] - m1[0]:.2f}')\n",
    "            final_binding_energy[f'{system_id}'] = [m1[0],s1[0]]\n",
    "        else:\n",
    "            print(f'quad {name}: {m[0]:.2f}({int(round(100*s[0]))}) {m1[0]:.2f}({int(round(100*s1[0]))}) {m[0] - m1[0]:.2f}')\n",
    "            final_binding_energy[f'{system_id}'] = [m[0],s[0]]\n",
    "\n",
    "\n",
    "\n",
    "        ax[0].legend(fontsize=7)\n",
    "\n",
    "\n",
    "        ax[1].set_title( f'{name}' )\n",
    "        ax[1].set_xlabel( 'DMC timestep [a.u.]' )\n",
    "        ax[1].set_xticks( [0, 0.003, 0.01, 0.02, 0.03, 0.04, 0.05, 0.06, 0.1, 0.2, 0.3 ] )\n",
    "        ax[1].set_xticklabels( [ '0', '3E-3', '0.01', '0.02', '0.03', '0.04', '0.05', '0.06', '0.1', '0.2', '0.3' ], rotation=90 )\n",
    "        ax[1].set_xlim( [0,0.1*1.03] )\n",
    "        ax[1].set_ylabel( 'Dimer Total Energy [kcal/mol]' )\n",
    "\n",
    "\n",
    "        system_dimer_total_energy_data = dmc_energy_data[system_id]['total_energy_dimer']\n",
    "\n",
    "\n",
    "        fitting_data = system_dimer_total_energy_data[ system_dimer_total_energy_data.index <= 0.045 ]\n",
    "        xdata = fitting_data.index.to_numpy()\n",
    "        ydata = fitting_data['ene'].to_numpy()\n",
    "        sigma = fitting_data['err'].to_numpy()\n",
    "\n",
    "\n",
    "\n",
    "        xfit1, m1, s1 = fit_err(xdata,ydata,sigma,fitfun=fun_lin)\n",
    "\n",
    "        extrap_system_total_energy = m1[0]\n",
    "\n",
    "        ax[1].plot(xfit1,m1 - extrap_system_total_energy,'--',color='blue', label=r'linear fit ($E^\\textrm{bind}_{\\tau \\to 0}=$' + f'{m1[0]:.2f}' + r'${\\pm}$' + f'{s1[0]:.2f})')\n",
    "        ax[1].fill_between(xfit1,m1 - extrap_system_total_energy -1*s1,m1 - extrap_system_total_energy +1*s1,color='blue',alpha=0.2)\n",
    "\n",
    "        ax[1].errorbar(dmc_energy_data[system_id]['total_energy_dimer'].index.tolist(), dmc_energy_data[system_id]['total_energy_dimer']['ene'].values - extrap_system_total_energy, yerr=dmc_energy_data[system_id]['total_energy_dimer']['err'].values, fmt='o', color='black',markeredgecolor='none',markersize=4, label=r'DMC//DLA')\n",
    "\n",
    "        taumaxfit = 0.30 #0.10\n",
    "        fitting_data = system_dimer_total_energy_data[ system_dimer_total_energy_data.index <= taumaxfit ]\n",
    "        xdata = fitting_data.index.to_numpy()\n",
    "        ydata = fitting_data['ene'].to_numpy()\n",
    "        sigma = fitting_data['err'].to_numpy()\n",
    "\n",
    "        xfit, m, s = fit_err(xdata,ydata,sigma,fitfun=fun_quad)\n",
    "        ax[1].plot(xfit,m - extrap_system_total_energy,'--',color='red', label=r'quadratic fit ($E^\\textrm{bind}_{\\tau \\to 0}=$' + f'{m[0]:.2f}' + r'${\\pm}$' + f'{s[0]:.2f})')\n",
    "        ax[1].fill_between(xfit,m - extrap_system_total_energy -1*s,m - extrap_system_total_energy +1*s,color='red',alpha=0.2)\n",
    "\n",
    "        ax[1].legend(fontsize=7)\n",
    "\n",
    "        ax[1].set_ylim([-15,15])\n",
    "\n",
    "        fig.tight_layout()\n",
    "        fig.savefig(f'Figures/Fig_SI_S66_{system_id:02d}.png',format='png',dpi=300)\n",
    "        plt.close()\n",
    "    \n",
    "    np.save('Data/final_binding_energy.npy', final_binding_energy)\n",
    "\n",
    "else:\n",
    "    final_binding_energy = np.load('Data/final_binding_energy.npy', allow_pickle=True).item()"
   ]
  },
  {
   "cell_type": "code",
   "execution_count": 134,
   "metadata": {},
   "outputs": [
    {
     "data": {
      "text/plain": [
       "-5.167921990878764"
      ]
     },
     "execution_count": 134,
     "metadata": {},
     "output_type": "execute_result"
    }
   ],
   "source": [
    "extrap_system_total_energy"
   ]
  },
  {
   "cell_type": "code",
   "execution_count": 117,
   "metadata": {},
   "outputs": [
    {
     "data": {
      "text/plain": [
       "{'1': [-5.186298365245017, 0.01779891687717257],\n",
       " '2': [0, 0],\n",
       " '3': [0, 0],\n",
       " '4': [0, 0],\n",
       " '5': [0, 0],\n",
       " '6': [0, 0],\n",
       " '7': [0, 0],\n",
       " '8': [0, 0],\n",
       " '9': [0, 0],\n",
       " '10': [0, 0],\n",
       " '11': [0, 0],\n",
       " '12': [0, 0],\n",
       " '13': [0, 0],\n",
       " '14': [0, 0],\n",
       " '15': [0, 0],\n",
       " '16': [0, 0],\n",
       " '17': [0, 0],\n",
       " '18': [0, 0],\n",
       " '19': [0, 0],\n",
       " '20': [0, 0],\n",
       " '21': [0, 0],\n",
       " '22': [0, 0],\n",
       " '23': [0, 0],\n",
       " '24': [0, 0],\n",
       " '25': [0, 0],\n",
       " '26': [0, 0],\n",
       " '27': [0, 0],\n",
       " '28': [0, 0],\n",
       " '29': [0, 0],\n",
       " '30': [0, 0],\n",
       " '31': [0, 0],\n",
       " '32': [0, 0],\n",
       " '33': [0, 0],\n",
       " '34': [0, 0],\n",
       " '35': [0, 0],\n",
       " '36': [0, 0],\n",
       " '37': [0, 0],\n",
       " '38': [0, 0],\n",
       " '39': [0, 0],\n",
       " '40': [0, 0],\n",
       " '41': [0, 0],\n",
       " '42': [0, 0],\n",
       " '43': [0, 0],\n",
       " '44': [0, 0],\n",
       " '45': [0, 0],\n",
       " '46': [0, 0],\n",
       " '47': [0, 0],\n",
       " '48': [0, 0],\n",
       " '49': [0, 0],\n",
       " '50': [0, 0],\n",
       " '51': [0, 0],\n",
       " '52': [0, 0],\n",
       " '53': [0, 0],\n",
       " '54': [0, 0],\n",
       " '55': [0, 0],\n",
       " '56': [0, 0],\n",
       " '57': [0, 0],\n",
       " '58': [0, 0],\n",
       " '59': [0, 0],\n",
       " '60': [0, 0],\n",
       " '61': [0, 0],\n",
       " '62': [0, 0],\n",
       " '63': [0, 0],\n",
       " '64': [0, 0],\n",
       " '65': [0, 0],\n",
       " '66': [0, 0]}"
      ]
     },
     "execution_count": 117,
     "metadata": {},
     "output_type": "execute_result"
    }
   ],
   "source": [
    "final_binding_energy"
   ]
  },
  {
   "cell_type": "code",
   "execution_count": 112,
   "metadata": {},
   "outputs": [
    {
     "data": {
      "text/plain": [
       "'linear fit $E_^\\\\textrm{bind}_{\\\\tau \\\\to 0}$({m1[0]:.2f}${\\\\pm}$0.02)'"
      ]
     },
     "execution_count": 112,
     "metadata": {},
     "output_type": "execute_result"
    }
   ],
   "source": [
    "'linear fit ' + r'$E_^\\textrm{bind}_{\\tau \\to 0}$' + '({m1[0]:.2f}' + r'${\\pm}$' + f'{s1[0]:.2f})'"
   ]
  },
  {
   "cell_type": "code",
   "execution_count": null,
   "metadata": {},
   "outputs": [],
   "source": []
  },
  {
   "cell_type": "markdown",
   "metadata": {},
   "source": [
    "## Main - Comparison of DMC against CCSD(T) and CCSD(cT)"
   ]
  },
  {
   "cell_type": "code",
   "execution_count": 74,
   "metadata": {},
   "outputs": [],
   "source": [
    "# Print the final data. Create a figure with three rows and plot final_binding_energy\n",
    "fig, axs = plt.subplots( nrows=3, ncols=1, figsize=(6.67,7),dpi=600,constrained_layout=True)\n",
    "\n",
    "datarange1 = list(range(1,24))\n",
    "datarange2 = list(range(24,47))\n",
    "datarange3 = list(range(47,67))\n",
    "\n",
    "axs[0].axhline(0, color='k', ls='--')\n",
    "axs[1].axhline(0, color='k', ls='--')\n",
    "axs[2].axhline(0, color='k', ls='--')\n",
    "\n",
    "\n",
    "axs[0].errorbar(datarange1,[final_binding_energy[f'{i}'][0] - final_binding_energy[f'{i}'][0] for i in datarange1], yerr = [final_binding_energy[f'{i}'][1] for i in datarange1], capsize=3, marker = 'none', ls='none', color = 'blue')\n",
    "axs[1].errorbar(datarange2,[final_binding_energy[f'{i}'][0] - final_binding_energy[f'{i}'][0] for i in datarange2],yerr = [final_binding_energy[f'{i}'][1] for i in datarange2], marker = 'none',ls='none', color = 'blue', capsize=3)\n",
    "axs[2].errorbar(datarange3,[final_binding_energy[f'{i}'][0] - final_binding_energy[f'{i}'][0] for i in datarange3], yerr = [final_binding_energy[f'{i}'][1] for i in datarange3], marker = 'none',ls='none', color = 'blue', capsize=3)\n",
    "\n",
    "# Plot the Martin silver reference value\n",
    "axs[0].scatter(datarange1, [ccsdt_references.loc[x,'CCSD(T) Final'] - final_binding_energy[f'{x}'][0] for x in datarange1],c='silver',marker='x', label=f'CCSD(T) [MAD: {np.mean([abs(ccsdt_references.loc[x,\"CCSD(T) Final\"] - final_binding_energy[f\"{x}\"][0]) for x in datarange1]):.2f}]')\n",
    "axs[1].scatter(datarange2, [ccsdt_references.loc[x,'CCSD(T) Final'] - final_binding_energy[f'{x}'][0] for x in datarange2],c='silver',marker='x', label=f'CCSD(T) [MAD: {np.mean([abs(ccsdt_references.loc[x,\"CCSD(T) Final\"] - final_binding_energy[f\"{x}\"][0]) for x in datarange2]):.2f}]')\n",
    "axs[2].scatter(datarange3, [ccsdt_references.loc[x,'CCSD(T) Final'] - final_binding_energy[f'{x}'][0] for x in datarange3],c='silver',marker='x', label=f'CCSD(T) [MAD: {np.mean([abs(ccsdt_references.loc[x,\"CCSD(T) Final\"] - final_binding_energy[f\"{x}\"][0]) for x in datarange3]):.2f}]')\n",
    "\n",
    "# Plot the cT_data\n",
    "# axs[0].scatter(datarange1, [-s66_cT_data[x-1]- final_binding_energy[f'{x}'][0] for x in datarange1],c='gold',marker='x', label=f'CCSD(cT)-fit [MAD: {np.mean([abs(-s66_cT_data[x-1] - final_binding_energy[f\"{x}\"][0]) for x in datarange1]):.2f}]')\n",
    "axs[1].scatter(datarange2, [ccsdt_references.loc[x,'CCSD(cT)-fit Final']- final_binding_energy[f'{x}'][0] for x in datarange2],c='gold',marker='x', label=f'CCSD(cT)-fit [MAD: {np.mean([abs(ccsdt_references.loc[x,\"CCSD(cT)-fit Final\"] - final_binding_energy[f\"{x}\"][0]) for x in datarange2]):.2f}]')\n",
    "# axs[2].scatter(datarange3, [-s66_cT_data[x-1]- final_binding_energy[f'{x}'][0] for x in datarange3],c='gold',marker='x', label=f'CCSD(cT)-fit [MAD: {np.mean([abs(-s66_cT_data[x-1] - final_binding_energy[f\"{x}\"][0]) for x in datarange3]):.2f}]')\n",
    "\n",
    "\n",
    "\n",
    "axs[0].set_xticks(datarange1)\n",
    "# Plot the names in the figure\n",
    "for i in datarange1:\n",
    "    axs[0].text(i,-0.9,f\"{final_binding_energy[f'{i}'][0]:.2f}({int(round(100*final_binding_energy[f'{i}'][1]))})\",fontsize=8,ha='center',rotation=90,  bbox=dict(facecolor='white', edgecolor='none',alpha=0.8 ))\n",
    "\n",
    "axs[1].set_xticks(datarange2)\n",
    "for i in datarange2:\n",
    "    axs[1].text(i,-0.9,f\"{final_binding_energy[f'{i}'][0]:.2f}({int(round(100*final_binding_energy[f'{i}'][1]))})\",fontsize=8,ha='center',rotation=90,  bbox=dict(facecolor='white', edgecolor='none',alpha=0.8 ))\n",
    "axs[2].set_xticks(datarange3)\n",
    "for i in datarange3:\n",
    "    axs[2].text(i,-0.9,f\"{final_binding_energy[f'{i}'][0]:.2f}({int(round(100*final_binding_energy[f'{i}'][1]))})\",fontsize=8,ha='center',rotation=90,  bbox=dict(facecolor='white', edgecolor='none',alpha=0.8 ))\n",
    "\n",
    "axs[0].set_ylim([-1,1])\n",
    "axs[1].set_ylim([-1,1])\n",
    "axs[2].set_ylim([-1,1])\n",
    "\n",
    "axs[2].set_xlabel('S66 system')\n",
    "\n",
    "axs[0].legend(loc='upper left')\n",
    "axs[1].legend(loc='upper left')\n",
    "axs[2].legend(loc='upper left')\n",
    "\n",
    "axs[0].set_title('H-bonded systems')\n",
    "axs[1].set_title('Dispersion systems')\n",
    "axs[2].set_title('Mixed systems')\n",
    "\n",
    "fig.supylabel('Difference against DMC [kcal/mol]')\n",
    "\n",
    "plt.savefig('Figures/Fig_MAIN_S66_compare.png')"
   ]
  },
  {
   "cell_type": "code",
   "execution_count": 82,
   "metadata": {},
   "outputs": [],
   "source": [
    "# Plot relative differences for all systems\n",
    "fig, axs = plt.subplots( nrows=3, ncols=1, figsize=(6.67,7),dpi=600,constrained_layout=True)\n",
    "\n",
    "datarange1 = list(range(1,24))\n",
    "datarange2 = list(range(24,47))\n",
    "datarange3 = list(range(47,67))\n",
    "\n",
    "axs[0].axhline(0, color='k', ls='--')\n",
    "axs[1].axhline(0, color='k', ls='--')\n",
    "axs[2].axhline(0, color='k', ls='--')\n",
    "\n",
    "\n",
    "axs[0].errorbar(datarange1,[final_binding_energy[f'{i}'][0] - final_binding_energy[f'{i}'][0] for i in datarange1], yerr = [abs(final_binding_energy[f'{i}'][1]*100/final_binding_energy[f'{i}'][0]) for i in datarange1], capsize=3, marker = 'none', ls='none', color = 'blue')\n",
    "axs[1].errorbar(datarange2,[final_binding_energy[f'{i}'][0] - final_binding_energy[f'{i}'][0] for i in datarange2],yerr = [abs(final_binding_energy[f'{i}'][1]*100/final_binding_energy[f'{i}'][0]) for i in datarange2], marker = 'none',ls='none', color = 'blue', capsize=3)\n",
    "axs[2].errorbar(datarange3,[final_binding_energy[f'{i}'][0] - final_binding_energy[f'{i}'][0] for i in datarange3], yerr = [abs(final_binding_energy[f'{i}'][1]*100/final_binding_energy[f'{i}'][0]) for i in datarange3], marker = 'none',ls='none', color = 'blue', capsize=3)\n",
    "\n",
    "# Plot the final (averaged) CCSD(T) reference value\n",
    "axs[0].scatter(datarange1, [(ccsdt_references.loc[x,'CCSD(T) Final'] - final_binding_energy[f'{x}'][0])*100/final_binding_energy[f'{x}'][0] for x in datarange1],c='silver',marker='x', label=f'CCSD(T) [MRD: {np.mean([abs((ccsdt_references.loc[x,\"CCSD(T) Final\"] - final_binding_energy[f\"{x}\"][0])/final_binding_energy[f\"{x}\"][0])*100 for x in datarange1]):.2f}%]')\n",
    "axs[1].scatter(datarange2, [(ccsdt_references.loc[x,'CCSD(T) Final'] - final_binding_energy[f'{x}'][0])*100/final_binding_energy[f'{x}'][0] for x in datarange2],c='silver',marker='x', label=f'CCSD(T) [MRD: {np.mean([abs((ccsdt_references.loc[x,\"CCSD(T) Final\"] - final_binding_energy[f\"{x}\"][0])/final_binding_energy[f\"{x}\"][0])*100 for x in datarange2]):.2f}%]')\n",
    "axs[2].scatter(datarange3, [(ccsdt_references.loc[x,'CCSD(T) Final'] - final_binding_energy[f'{x}'][0])*100/final_binding_energy[f'{x}'][0] for x in datarange3],c='silver',marker='x', label=f'CCSD(T) [MRD: {np.mean([abs((ccsdt_references.loc[x,\"CCSD(T) Final\"] - final_binding_energy[f\"{x}\"][0])/final_binding_energy[f\"{x}\"][0])*100 for x in datarange3]):.2f}%]')\n",
    "\n",
    "# Plot the cT_data\n",
    "# axs[0].scatter(datarange1, [(-s66_cT_data[x-1]- final_binding_energy[f'{x}'][0])*100/final_binding_energy[f'{x}'][0] for x in datarange1],c='gold',marker='x', label=f'CCSD(cT)-fit [MAD: {np.mean([abs(-s66_cT_data[x-1] - final_binding_energy[f\"{x}\"][0]) for x in datarange1]):.2f}]')\n",
    "axs[1].scatter(datarange2, [(ccsdt_references.loc[x,'CCSD(cT)-fit Final']- final_binding_energy[f'{x}'][0])*100/final_binding_energy[f'{x}'][0] for x in datarange2],c='gold',marker='x', label=f'CCSD(cT)-fit [MRD: {np.mean([abs((ccsdt_references.loc[x,\"CCSD(cT)-fit Final\"] - final_binding_energy[f\"{x}\"][0])/final_binding_energy[f\"{x}\"][0])*100 for x in datarange2]):.2f}%]')\n",
    "# axs[2].scatter(datarange3, [(-s66_cT_data[x-1]- final_binding_energy[f'{x}'][0])*100/final_binding_energy[f'{x}'][0] for x in datarange3],c='gold',marker='x', label=f'CCSD(cT)-fit [MAD: {np.mean([abs(-s66_cT_data[x-1] - final_binding_energy[f\"{x}\"][0]) for x in datarange3]):.2f}]')\n",
    "\n",
    "axs[0].set_xticks(datarange1)\n",
    "axs[1].set_xticks(datarange2)\n",
    "axs[2].set_xticks(datarange3)\n",
    "\n",
    "axs[0].set_ylim([-10,20])\n",
    "axs[1].set_ylim([-10,20])\n",
    "axs[2].set_ylim([-10,20])\n",
    "\n",
    "axs[2].set_xlabel('S66 system')\n",
    "axs[0].legend(loc='upper center')\n",
    "axs[1].legend(loc='upper center')\n",
    "axs[2].legend(loc='upper center')\n",
    "\n",
    "axs[0].set_title('H-bonded systems')\n",
    "axs[1].set_title('Dispersion systems')\n",
    "axs[2].set_title('Mixed systems')\n",
    "\n",
    "fig.supylabel('Relative difference against DMC \\%')\n",
    "plt.savefig('Figures/Fig_SI_S66_compare_relative.png')"
   ]
  },
  {
   "cell_type": "code",
   "execution_count": null,
   "metadata": {},
   "outputs": [],
   "source": [
    "# # Make the data for the dictionary of the \n",
    "\n",
    "# with open('s66_rel_ene.txt','w') as f:\n",
    "#     f.write(\"System DMC_Int_Ene (T)_Int_Ene (cT)_Int_Ene (T)_Diff (cT)_Diff (T)_Rel_Diff (cT)_Rel_Diff\\n\")\n",
    "#     for i in range(1,67):\n",
    "#         f.write(f'{i:02d}      {final_binding_energy[f\"{i}\"][0]:-7.3f}    {ccsdt_references.loc[i,\"Martin_Silver\"]:-7.3f}     {-s66_cT_data[i-1]:-7.3f}     {(ccsdt_references.loc[i,\"Martin_Silver\"] -  final_binding_energy[f\"{i}\"][0]):-7.3f}    {(-s66_cT_data[i-1]- final_binding_energy[f\"{i}\"][0]):-7.3f}     {abs((ccsdt_references.loc[i,\"Martin_Silver\"] - final_binding_energy[f\"{i}\"][0])*100/final_binding_energy[f\"{i}\"][0]):7.1f}         {abs((-s66_cT_data[i-1]- final_binding_energy[f\"{i}\"][0])*100/final_binding_energy[f\"{i}\"][0]):4.1f}\\n')\n"
   ]
  },
  {
   "cell_type": "markdown",
   "metadata": {},
   "source": [
    "## Analysis of differences based on SAPT"
   ]
  },
  {
   "cell_type": "code",
   "execution_count": 84,
   "metadata": {},
   "outputs": [],
   "source": [
    "# Plot the error between DMC and CCSD(T) against the dispersion/electrostatic ratio\n",
    "\n",
    "import Data.Sherrill_Biofragment_SAPT_S66 as sapt_s66\n",
    "\n",
    "binding_energy_decomposition = pd.DataFrame( sapt_s66.DATA )\n",
    "\n",
    "binding_energy_decomposition['ELST DISP+ELST RATIO'] = binding_energy_decomposition['SAPT ELST ENERGY'] /(binding_energy_decomposition['SAPT DISP ENERGY'] + binding_energy_decomposition['SAPT ELST ENERGY'])\n",
    "\n",
    "\n",
    "fig, axs = plt.subplots(figsize=(3.36,3.5),dpi=600,constrained_layout=True)\n",
    "\n",
    "quantity_to_look_at = 'ELST DISP+ELST RATIO'\n",
    "\n",
    "axs.scatter(np.array(binding_energy_decomposition[quantity_to_look_at].tolist())[[x-1 for x in datarange1]], [(ccsdt_references.loc[x,'Martin_Silver'] - final_binding_energy[f'{x}'][0])*100/final_binding_energy[f'{x}'][0] for x in datarange1],c='red',marker='x', label='Electrostatic')\n",
    "axs.scatter(np.array(binding_energy_decomposition[quantity_to_look_at].tolist())[[x-1 for x in datarange2]], [(ccsdt_references.loc[x,'Martin_Silver'] - final_binding_energy[f'{x}'][0])*100/final_binding_energy[f'{x}'][0] for x in datarange2],c='blue',marker='x',label='Dispersion')\n",
    "axs.scatter(np.array(binding_energy_decomposition[quantity_to_look_at].tolist())[[x-1 for x in datarange3]], [(ccsdt_references.loc[x,'Martin_Silver'] - final_binding_energy[f'{x}'][0])*100/final_binding_energy[f'{x}'][0] for x in datarange3],c='green',marker='x', label='Mixed')\n",
    "\n",
    "axs.set_xlabel(r'ELST/DISP ratio from SAPT')\n",
    "axs.set_ylabel(r'|DMC-CCSD(T)|/|DMC| [%]')\n",
    "axs.legend()\n",
    "\n",
    "plt.savefig('Figures/Fig_MAIN_Error_decomposition.png')\n"
   ]
  }
 ],
 "metadata": {
  "kernelspec": {
   "display_name": "quacc_skzcamv2",
   "language": "python",
   "name": "python3"
  },
  "language_info": {
   "codemirror_mode": {
    "name": "ipython",
    "version": 3
   },
   "file_extension": ".py",
   "mimetype": "text/x-python",
   "name": "python",
   "nbconvert_exporter": "python",
   "pygments_lexer": "ipython3",
   "version": "3.11.8"
  }
 },
 "nbformat": 4,
 "nbformat_minor": 2
}
